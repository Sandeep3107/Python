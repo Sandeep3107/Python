{
 "cells": [
  {
   "cell_type": "code",
   "execution_count": null,
   "metadata": {},
   "outputs": [],
   "source": [
    " Write a program which will find all such numbers which are divisible by 7 but are not a multiple of 5, between 2000 and 3200 (both included). The numbers obtained should be printed\n",
    "in a comma-separated sequence on a single line"
   ]
  },
  {
   "cell_type": "code",
   "execution_count": 63,
   "metadata": {},
   "outputs": [
    {
     "name": "stdout",
     "output_type": "stream",
     "text": [
      "[2002, 2009, 2016, 2023, 2037, 2044, 2051, 2058, 2072, 2079, 2086, 2093, 2107, 2114, 2121, 2128, 2142, 2149, 2156, 2163, 2177, 2184, 2191, 2198, 2212, 2219, 2226, 2233, 2247, 2254, 2261, 2268, 2282, 2289, 2296, 2303, 2317, 2324, 2331, 2338, 2352, 2359, 2366, 2373, 2387, 2394, 2401, 2408, 2422, 2429, 2436, 2443, 2457, 2464, 2471, 2478, 2492, 2499, 2506, 2513, 2527, 2534, 2541, 2548, 2562, 2569, 2576, 2583, 2597, 2604, 2611, 2618, 2632, 2639, 2646, 2653, 2667, 2674, 2681, 2688, 2702, 2709, 2716, 2723, 2737, 2744, 2751, 2758, 2772, 2779, 2786, 2793, 2807, 2814, 2821, 2828, 2842, 2849, 2856, 2863, 2877, 2884, 2891, 2898, 2912, 2919, 2926, 2933, 2947, 2954, 2961, 2968, 2982, 2989, 2996, 3003, 3017, 3024, 3031, 3038, 3052, 3059, 3066, 3073, 3087, 3094, 3101, 3108, 3122, 3129, 3136, 3143, 3157, 3164, 3171, 3178, 3192, 3199, 3206, 3213, 3227, 3234, 3241, 3248, 3262, 3269, 3276, 3283, 3297, 3304, 3311, 3318, 3332, 3339, 3346, 3353, 3367, 3374, 3381, 3388, 3402, 3409, 3416, 3423, 3437, 3444, 3451, 3458, 3472, 3479, 3486, 3493, 3507, 3514, 3521, 3528, 3542, 3549, 3556, 3563, 3577, 3584, 3591, 3598, 3612, 3619, 3626, 3633, 3647, 3654, 3661, 3668, 3682, 3689, 3696, 3703, 3717, 3724, 3731, 3738, 3752, 3759, 3766, 3773, 3787, 3794, 3801, 3808, 3822, 3829, 3836, 3843, 3857, 3864, 3871, 3878, 3892, 3899, 3906, 3913, 3927, 3934, 3941, 3948, 3962, 3969, 3976, 3983, 3997, 4004, 4011, 4018, 4032, 4039, 4046, 4053, 4067, 4074, 4081, 4088, 4102, 4109, 4116, 4123, 4137, 4144, 4151, 4158, 4172, 4179, 4186, 4193, 4207, 4214, 4221, 4228, 4242, 4249, 4256, 4263, 4277, 4284, 4291, 4298, 4312, 4319, 4326, 4333, 4347, 4354, 4361, 4368, 4382, 4389, 4396, 4403, 4417, 4424, 4431, 4438, 4452, 4459, 4466, 4473, 4487, 4494, 4501, 4508, 4522, 4529, 4536, 4543, 4557, 4564, 4571, 4578, 4592, 4599, 4606, 4613, 4627, 4634, 4641, 4648, 4662, 4669, 4676, 4683, 4697, 4704, 4711, 4718, 4732, 4739, 4746, 4753, 4767, 4774, 4781, 4788, 4802, 4809, 4816, 4823, 4837, 4844, 4851, 4858, 4872, 4879, 4886, 4893, 4907, 4914, 4921, 4928, 4942, 4949, 4956, 4963, 4977, 4984, 4991, 4998]\n"
     ]
    }
   ],
   "source": [
    "Demo=[]\n",
    "for i in range (2000,5001):\n",
    "    if (i %7==0 and i%5 !=0):\n",
    "        Demo.append(i)\n",
    "print(Demo)\n",
    "    \n",
    "      "
   ]
  },
  {
   "cell_type": "code",
   "execution_count": null,
   "metadata": {},
   "outputs": [],
   "source": [
    " Write a Python program to accept the user's first and last name and then getting them\n",
    "    printed in the the reverse order with a space between first name and last name."
   ]
  },
  {
   "cell_type": "code",
   "execution_count": 69,
   "metadata": {},
   "outputs": [
    {
     "name": "stdout",
     "output_type": "stream",
     "text": [
      "Enter First Name :test\n",
      "Enter Last Name :name\n",
      "tset eman\n"
     ]
    }
   ],
   "source": [
    "first_Name=input(\"Enter First Name :\")\n",
    "Last_Name=input(\"Enter Last Name :\")\n",
    "print(first_Name[::-1] +\" \"  +Last_Name[::-1])"
   ]
  },
  {
   "cell_type": "code",
   "execution_count": null,
   "metadata": {},
   "outputs": [],
   "source": [
    " Write a Python program to find the volume of a sphere with diameter 12 cm.\n",
    "    Formula: V=4/3 * π * r 3"
   ]
  },
  {
   "cell_type": "code",
   "execution_count": 82,
   "metadata": {},
   "outputs": [
    {
     "name": "stdout",
     "output_type": "stream",
     "text": [
      "905.142857142857\n"
     ]
    }
   ],
   "source": [
    "dia=12\n",
    "r =(dia/2)\n",
    "pi= 22/7\n",
    "volume= (4/3 * pi *r*r*r)\n",
    "print(volume)"
   ]
  },
  {
   "cell_type": "code",
   "execution_count": null,
   "metadata": {},
   "outputs": [],
   "source": []
  },
  {
   "cell_type": "code",
   "execution_count": null,
   "metadata": {},
   "outputs": [],
   "source": []
  }
 ],
 "metadata": {
  "kernelspec": {
   "display_name": "Python 3",
   "language": "python",
   "name": "python3"
  },
  "language_info": {
   "codemirror_mode": {
    "name": "ipython",
    "version": 3
   },
   "file_extension": ".py",
   "mimetype": "text/x-python",
   "name": "python",
   "nbconvert_exporter": "python",
   "pygments_lexer": "ipython3",
   "version": "3.7.1"
  }
 },
 "nbformat": 4,
 "nbformat_minor": 2
}
